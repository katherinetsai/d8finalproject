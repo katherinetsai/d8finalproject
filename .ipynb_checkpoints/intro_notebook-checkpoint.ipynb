{
 "cells": [
  {
   "cell_type": "code",
   "execution_count": 2,
   "metadata": {},
   "outputs": [
    {
     "ename": "ModuleNotFoundError",
     "evalue": "No module named 'datascience'",
     "output_type": "error",
     "traceback": [
      "\u001b[0;31m---------------------------------------------------------------------------\u001b[0m",
      "\u001b[0;31mModuleNotFoundError\u001b[0m                       Traceback (most recent call last)",
      "\u001b[0;32m<ipython-input-2-3c0f3b4700fc>\u001b[0m in \u001b[0;36m<module>\u001b[0;34m\u001b[0m\n\u001b[0;32m----> 1\u001b[0;31m \u001b[0;32mfrom\u001b[0m \u001b[0mdatascience\u001b[0m \u001b[0;32mimport\u001b[0m \u001b[0;34m*\u001b[0m\u001b[0;34m\u001b[0m\u001b[0;34m\u001b[0m\u001b[0m\n\u001b[0m\u001b[1;32m      2\u001b[0m \u001b[0;32mimport\u001b[0m \u001b[0mnumpy\u001b[0m \u001b[0;32mas\u001b[0m \u001b[0mnp\u001b[0m\u001b[0;34m\u001b[0m\u001b[0;34m\u001b[0m\u001b[0m\n\u001b[1;32m      3\u001b[0m \u001b[0mget_ipython\u001b[0m\u001b[0;34m(\u001b[0m\u001b[0;34m)\u001b[0m\u001b[0;34m.\u001b[0m\u001b[0mrun_line_magic\u001b[0m\u001b[0;34m(\u001b[0m\u001b[0;34m'matplotlib'\u001b[0m\u001b[0;34m,\u001b[0m \u001b[0;34m'inline'\u001b[0m\u001b[0;34m)\u001b[0m\u001b[0;34m\u001b[0m\u001b[0;34m\u001b[0m\u001b[0m\n",
      "\u001b[0;31mModuleNotFoundError\u001b[0m: No module named 'datascience'"
     ]
    }
   ],
   "source": [
    "from datascience import *\n",
    "import numpy as np\n",
    "%matplotlib inline"
   ]
  },
  {
   "cell_type": "markdown",
   "metadata": {},
   "source": [
    "# Free Music Archive : A Dataset For Music Analysis"
   ]
  },
  {
   "cell_type": "markdown",
   "metadata": {},
   "source": [
    "This dataset was introduced by Michaël Defferrard, Kirell Benzi, Pierre Vandergheynst, and Xavier Bresson at the International Society for Music Information Retrieval Conference in 2017. It has been\n",
    "cleaned for your convenience: all missing values have been removed, and low-quality observations and variables have been filtered\n",
    "out. A brief summary of the dataset, originally given at the conference, is provided below. **You\n",
    "may not copy any public analyses of this dataset. Doing so will result in an automatic F.**"
   ]
  },
  {
   "cell_type": "markdown",
   "metadata": {},
   "source": [
    "## Summary\n",
    "We introduce the Free Music Archive (FMA), an open and easily accessible dataset suitable for evaluating several tasks in MIR, a field concerned with browsing, searching, and organizing large music collections. The community's growing interest in feature and end-to-end learning is however restrained by the limited availability of large audio datasets. The FMA aims to overcome this hurdle by providing 917 GiB and 343 days of Creative Commons-licensed audio from 106,574 tracks from 16,341 artists and 14,854 albums, arranged in a hierarchical taxonomy of 161 genres. It provides full-length and high-quality audio, pre-computed features, together with track- and user-level metadata, tags, and free-form text such as biographies. We here describe the dataset and how it was created, propose a train/validation/test split and three subsets, discuss some suitable MIR tasks, and evaluate some baselines for genre recognition."
   ]
  },
  {
   "cell_type": "markdown",
   "metadata": {},
   "source": [
    "## Data Description\n",
    "\n",
    "This dataset consists of three tables stored in the `data` folder:\n",
    "1. `tracks` provides information on individual tracks.\n",
    "2. `genres` contains information on all of the genres.\n",
    "3. `features` contains information on the Spotify audio features of each track.\n",
    "\n",
    "A description of each table's variables is provided below:\n",
    "\n",
    "`tracks`:\n",
    "* `track_id`: a unique ID for each track\n",
    "* `title`: title of each track\n",
    "* `duration`: the length of the song in seconds\n",
    "* `genres`: the genre(s) that the track fall(s) into\n",
    "\n",
    "`genres`:\n",
    "* `genre_id`: a unique ID for each genre\n",
    "* `title`: the name of the genre\n",
    "* `# tracks`: the number of tracks that fall into this genre\n",
    "* `parent`: the genre that this subgenre falls under (will be 0 if not a subgenre)\n",
    "\n",
    "`features` (descriptions from the [Spotify API page](https://developer.spotify.com/documentation/web-api/reference/tracks/get-audio-features/)):\n",
    "* `track_id`: a unique ID for each track\n",
    "* `acousticness`: A confidence measure from 0.0 to 1.0 of whether the track is acoustic. 1.0 represents high confidence the track is acoustic.\n",
    "* `danceability`: Danceability describes how suitable a track is for dancing based on a combination of musical elements including tempo, rhythm stability, beat strength, and overall regularity. A value of 0.0 is least danceable and 1.0 is most danceable.\n",
    "* `energy`: Energy is a measure from 0.0 to 1.0 and represents a perceptual measure of intensity and activity. Typically, energetic tracks feel fast, loud, and noisy. For example, death metal has high energy, while a Bach prelude scores low on the scale.\n",
    "* `instrumentalness`: Predicts whether a track contains no vocals. “Ooh” and “aah” sounds are treated as instrumental in this context. Rap or spoken word tracks are clearly “vocal”. The closer the instrumentalness value is to 1.0, the greater likelihood the track contains no vocal content. \n",
    "* `liveness\t`: Detects the presence of an audience in the recording. Higher liveness values represent an increased probability that the track was performed live.\n",
    "* `speechiness`: Speechiness detects the presence of spoken words in a track. The more exclusively speech-like the recording (e.g. talk show, audio book, poetry), the closer to 1.0 the attribute value. \n",
    "* `tempo`: The overall estimated tempo of a track in beats per minute (BPM). In musical terminology, tempo is the speed or pace of a given piece and derives directly from the average beat duration. \n",
    "* `valence`: \tA measure from 0.0 to 1.0 describing the musical positiveness conveyed by a track. Tracks with high valence sound more positive (e.g. happy, cheerful, euphoric), while tracks with low valence sound more negative (e.g. sad, depressed, angry)."
   ]
  },
  {
   "cell_type": "markdown",
   "metadata": {},
   "source": [
    "## Inspiration\n",
    "\n",
    "A variety of exploratory analyses, hypothesis tests, and predictions problems can tackled with this data. Here are a few ideas to get\n",
    "you started:\n",
    "\n",
    "*we'll come back and fix these*\n",
    "\n",
    "1. Which genre has the longest songs?\n",
    "3. Is there a relationship between danceability and energy? What about danceability and valence?\n",
    "4. Can you classify which genre (of [pick 2 once we see data]) based on its features?\n",
    "5. Do (pick 2 genres) have the same average energy?\n",
    "\n",
    "Don't forget to review the Final Project Guidelines *(will link when live)* for a complete list of requirements."
   ]
  },
  {
   "cell_type": "markdown",
   "metadata": {},
   "source": [
    "## Exploration\n",
    "\n",
    "The tables are loaded in the code cells below. Take some time to explore them!"
   ]
  },
  {
   "cell_type": "code",
   "execution_count": 3,
   "metadata": {},
   "outputs": [],
   "source": [
    "#load tracks"
   ]
  },
  {
   "cell_type": "code",
   "execution_count": 14,
   "metadata": {},
   "outputs": [
    {
     "data": {
      "text/html": [
       "<table border=\"1\" class=\"dataframe\">\n",
       "    <thead>\n",
       "        <tr>\n",
       "            <th>genre_id</th> <th>#tracks</th> <th>parent</th> <th>title</th>\n",
       "        </tr>\n",
       "    </thead>\n",
       "    <tbody>\n",
       "        <tr>\n",
       "            <td>1       </td> <td>8693   </td> <td>38    </td> <td>Avant-Garde        </td>\n",
       "        </tr>\n",
       "        <tr>\n",
       "            <td>2       </td> <td>5271   </td> <td>0     </td> <td>International      </td>\n",
       "        </tr>\n",
       "        <tr>\n",
       "            <td>3       </td> <td>1752   </td> <td>0     </td> <td>Blues              </td>\n",
       "        </tr>\n",
       "        <tr>\n",
       "            <td>4       </td> <td>4126   </td> <td>0     </td> <td>Jazz               </td>\n",
       "        </tr>\n",
       "        <tr>\n",
       "            <td>5       </td> <td>4106   </td> <td>0     </td> <td>Classical          </td>\n",
       "        </tr>\n",
       "        <tr>\n",
       "            <td>6       </td> <td>914    </td> <td>38    </td> <td>Novelty            </td>\n",
       "        </tr>\n",
       "        <tr>\n",
       "            <td>7       </td> <td>217    </td> <td>20    </td> <td>Comedy             </td>\n",
       "        </tr>\n",
       "        <tr>\n",
       "            <td>8       </td> <td>868    </td> <td>0     </td> <td>Old-Time / Historic</td>\n",
       "        </tr>\n",
       "        <tr>\n",
       "            <td>9       </td> <td>1987   </td> <td>0     </td> <td>Country            </td>\n",
       "        </tr>\n",
       "        <tr>\n",
       "            <td>10      </td> <td>13845  </td> <td>0     </td> <td>Pop                </td>\n",
       "        </tr>\n",
       "    </tbody>\n",
       "</table>\n",
       "<p>... (153 rows omitted)</p>"
      ],
      "text/plain": [
       "genre_id | #tracks | parent | title\n",
       "1        | 8693    | 38     | Avant-Garde\n",
       "2        | 5271    | 0      | International\n",
       "3        | 1752    | 0      | Blues\n",
       "4        | 4126    | 0      | Jazz\n",
       "5        | 4106    | 0      | Classical\n",
       "6        | 914     | 38     | Novelty\n",
       "7        | 217     | 20     | Comedy\n",
       "8        | 868     | 0      | Old-Time / Historic\n",
       "9        | 1987    | 0      | Country\n",
       "10       | 13845   | 0      | Pop\n",
       "... (153 rows omitted)"
      ]
     },
     "execution_count": 14,
     "metadata": {},
     "output_type": "execute_result"
    }
   ],
   "source": [
    "#load genres\n",
    "genres = Table().read_table(\"genres.csv\").drop('top_level')\n",
    "genres"
   ]
  },
  {
   "cell_type": "code",
   "execution_count": 13,
   "metadata": {},
   "outputs": [
    {
     "data": {
      "text/html": [
       "<table border=\"1\" class=\"dataframe\">\n",
       "    <thead>\n",
       "        <tr>\n",
       "            <th>Unnamed: 0</th> <th>echonest</th> <th>echonest.1</th> <th>echonest.2</th> <th>echonest.3</th> <th>echonest.4</th> <th>echonest.5</th> <th>echonest.6</th> <th>echonest.7</th> <th>echonest.8</th> <th>echonest.9</th> <th>echonest.10</th> <th>echonest.11</th> <th>echonest.12</th> <th>echonest.13</th> <th>echonest.14</th> <th>echonest.15</th>\n",
       "        </tr>\n",
       "    </thead>\n",
       "    <tbody>\n",
       "        <tr>\n",
       "            <td>nan       </td> <td>acousticness</td> <td>danceability</td> <td>energy      </td> <td>instrumentalness</td> <td>liveness    </td> <td>speechiness </td> <td>tempo         </td> <td>valence     </td> <td>album_date</td> <td>album_name       </td> <td>artist_latitude</td> <td>artist_location     </td> <td>artist_longitude</td> <td>artist_name                      </td> <td>release              </td> <td>artist_discovery_rank</td>\n",
       "        </tr>\n",
       "        <tr>\n",
       "            <td>track_id  </td> <td>nan         </td> <td>nan         </td> <td>nan         </td> <td>nan             </td> <td>nan         </td> <td>nan         </td> <td>nan           </td> <td>nan         </td> <td>nan       </td> <td>nan              </td> <td>nan            </td> <td>nan                 </td> <td>nan             </td> <td>nan                              </td> <td>nan                  </td> <td>nan                  </td>\n",
       "        </tr>\n",
       "        <tr>\n",
       "            <td>2         </td> <td>0.4166752327</td> <td>0.6758939853</td> <td>0.6344762684</td> <td>0.0106280683    </td> <td>0.1776465712</td> <td>0.1593100648</td> <td>165.9220000000</td> <td>0.5766609880</td> <td>nan       </td> <td>nan              </td> <td>32.6783000000  </td> <td>Georgia, US         </td> <td>-83.2230000000  </td> <td>AWOL                             </td> <td>AWOL - A Way Of Life </td> <td>nan                  </td>\n",
       "        </tr>\n",
       "        <tr>\n",
       "            <td>3         </td> <td>0.3744077685</td> <td>0.5286430621</td> <td>0.8174611317</td> <td>0.0018511032    </td> <td>0.1058799438</td> <td>0.4618181276</td> <td>126.9570000000</td> <td>0.2692402421</td> <td>nan       </td> <td>nan              </td> <td>32.6783000000  </td> <td>Georgia, US         </td> <td>-83.2230000000  </td> <td>AWOL                             </td> <td>AWOL - A Way Of Life </td> <td>nan                  </td>\n",
       "        </tr>\n",
       "        <tr>\n",
       "            <td>5         </td> <td>0.0435668989</td> <td>0.7455658702</td> <td>0.7014699916</td> <td>0.0006967990    </td> <td>0.3731433124</td> <td>0.1245953419</td> <td>100.2600000000</td> <td>0.6216612236</td> <td>nan       </td> <td>nan              </td> <td>32.6783000000  </td> <td>Georgia, US         </td> <td>-83.2230000000  </td> <td>AWOL                             </td> <td>AWOL - A Way Of Life </td> <td>nan                  </td>\n",
       "        </tr>\n",
       "        <tr>\n",
       "            <td>10        </td> <td>0.9516699648</td> <td>0.6581786543</td> <td>0.9245251615</td> <td>0.9654270154    </td> <td>0.1154738842</td> <td>0.0329852191</td> <td>111.5620000000</td> <td>0.9635898919</td> <td>2008-03-11</td> <td>Constant Hitmaker</td> <td>39.9523000000  </td> <td>Philadelphia, PA, US</td> <td>-75.1624000000  </td> <td>Kurt Vile                        </td> <td>Constant Hitmaker    </td> <td>2635.0000000000      </td>\n",
       "        </tr>\n",
       "        <tr>\n",
       "            <td>134       </td> <td>0.4522173071</td> <td>0.5132380502</td> <td>0.5604099311</td> <td>0.0194426943    </td> <td>0.0965666940</td> <td>0.5255193792</td> <td>114.2900000000</td> <td>0.8940722715</td> <td>nan       </td> <td>nan              </td> <td>32.6783000000  </td> <td>Georgia, US         </td> <td>-83.2230000000  </td> <td>AWOL                             </td> <td>AWOL - A Way Of Life </td> <td>nan                  </td>\n",
       "        </tr>\n",
       "        <tr>\n",
       "            <td>139       </td> <td>0.1065495253</td> <td>0.2609111726</td> <td>0.6070668636</td> <td>0.8350869898    </td> <td>0.2236762711</td> <td>0.0305692764</td> <td>196.9610000000</td> <td>0.1602670903</td> <td>nan       </td> <td>nan              </td> <td>41.8239000000  </td> <td>Providence, RI, US  </td> <td>-71.4120000000  </td> <td>Alec K. Redfearn and the Eyesores</td> <td>Every Man For Himself</td> <td>149495.0000000000    </td>\n",
       "        </tr>\n",
       "        <tr>\n",
       "            <td>140       </td> <td>0.3763124975</td> <td>0.7340790229</td> <td>0.2656847734</td> <td>0.6695811237    </td> <td>0.0859951222</td> <td>0.0390682262</td> <td>107.9520000000</td> <td>0.6099912728</td> <td>nan       </td> <td>nan              </td> <td>41.8239000000  </td> <td>Providence, RI, US  </td> <td>-71.4120000000  </td> <td>Alec K. Redfearn and the Eyesores</td> <td>The Blind Spot       </td> <td>149495.0000000000    </td>\n",
       "        </tr>\n",
       "        <tr>\n",
       "            <td>141       </td> <td>0.9636568796</td> <td>0.4359329980</td> <td>0.0756321472</td> <td>0.3454934909    </td> <td>0.1056858694</td> <td>0.0266578493</td> <td>33.4770000000 </td> <td>0.1639499337</td> <td>nan       </td> <td>nan              </td> <td>41.8239000000  </td> <td>Providence, RI, US  </td> <td>-71.4120000000  </td> <td>Alec K. Redfearn and the Eyesores</td> <td>Every Man For Himself</td> <td>nan                  </td>\n",
       "        </tr>\n",
       "    </tbody>\n",
       "</table>\n",
       "<p>... (13121 rows omitted)</p>"
      ],
      "text/plain": [
       "Unnamed: 0 | echonest     | echonest.1   | echonest.2   | echonest.3       | echonest.4   | echonest.5   | echonest.6     | echonest.7   | echonest.8 | echonest.9        | echonest.10     | echonest.11          | echonest.12      | echonest.13                       | echonest.14           | echonest.15\n",
       "nan        | acousticness | danceability | energy       | instrumentalness | liveness     | speechiness  | tempo          | valence      | album_date | album_name        | artist_latitude | artist_location      | artist_longitude | artist_name                       | release               | artist_discovery_rank\n",
       "track_id   | nan          | nan          | nan          | nan              | nan          | nan          | nan            | nan          | nan        | nan               | nan             | nan                  | nan              | nan                               | nan                   | nan\n",
       "2          | 0.4166752327 | 0.6758939853 | 0.6344762684 | 0.0106280683     | 0.1776465712 | 0.1593100648 | 165.9220000000 | 0.5766609880 | nan        | nan               | 32.6783000000   | Georgia, US          | -83.2230000000   | AWOL                              | AWOL - A Way Of Life  | nan\n",
       "3          | 0.3744077685 | 0.5286430621 | 0.8174611317 | 0.0018511032     | 0.1058799438 | 0.4618181276 | 126.9570000000 | 0.2692402421 | nan        | nan               | 32.6783000000   | Georgia, US          | -83.2230000000   | AWOL                              | AWOL - A Way Of Life  | nan\n",
       "5          | 0.0435668989 | 0.7455658702 | 0.7014699916 | 0.0006967990     | 0.3731433124 | 0.1245953419 | 100.2600000000 | 0.6216612236 | nan        | nan               | 32.6783000000   | Georgia, US          | -83.2230000000   | AWOL                              | AWOL - A Way Of Life  | nan\n",
       "10         | 0.9516699648 | 0.6581786543 | 0.9245251615 | 0.9654270154     | 0.1154738842 | 0.0329852191 | 111.5620000000 | 0.9635898919 | 2008-03-11 | Constant Hitmaker | 39.9523000000   | Philadelphia, PA, US | -75.1624000000   | Kurt Vile                         | Constant Hitmaker     | 2635.0000000000\n",
       "134        | 0.4522173071 | 0.5132380502 | 0.5604099311 | 0.0194426943     | 0.0965666940 | 0.5255193792 | 114.2900000000 | 0.8940722715 | nan        | nan               | 32.6783000000   | Georgia, US          | -83.2230000000   | AWOL                              | AWOL - A Way Of Life  | nan\n",
       "139        | 0.1065495253 | 0.2609111726 | 0.6070668636 | 0.8350869898     | 0.2236762711 | 0.0305692764 | 196.9610000000 | 0.1602670903 | nan        | nan               | 41.8239000000   | Providence, RI, US   | -71.4120000000   | Alec K. Redfearn and the Eyesores | Every Man For Himself | 149495.0000000000\n",
       "140        | 0.3763124975 | 0.7340790229 | 0.2656847734 | 0.6695811237     | 0.0859951222 | 0.0390682262 | 107.9520000000 | 0.6099912728 | nan        | nan               | 41.8239000000   | Providence, RI, US   | -71.4120000000   | Alec K. Redfearn and the Eyesores | The Blind Spot        | 149495.0000000000\n",
       "141        | 0.9636568796 | 0.4359329980 | 0.0756321472 | 0.3454934909     | 0.1056858694 | 0.0266578493 | 33.4770000000  | 0.1639499337 | nan        | nan               | 41.8239000000   | Providence, RI, US   | -71.4120000000   | Alec K. Redfearn and the Eyesores | Every Man For Himself | nan\n",
       "... (13121 rows omitted)"
      ]
     },
     "execution_count": 13,
     "metadata": {},
     "output_type": "execute_result"
    }
   ],
   "source": [
    "#load features\n",
    "features = Table().read_table(\"features.csv\")\n",
    "features = features.select(np.arange(17)).remove(0)\n",
    "features"
   ]
  },
  {
   "cell_type": "code",
   "execution_count": 1,
   "metadata": {},
   "outputs": [
    {
     "ename": "NameError",
     "evalue": "name 'Table' is not defined",
     "output_type": "error",
     "traceback": [
      "\u001b[0;31m---------------------------------------------------------------------------\u001b[0m",
      "\u001b[0;31mNameError\u001b[0m                                 Traceback (most recent call last)",
      "\u001b[0;32m<ipython-input-1-8451a6cf3c2e>\u001b[0m in \u001b[0;36m<module>\u001b[0;34m\u001b[0m\n\u001b[1;32m      1\u001b[0m \u001b[0;31m#load tracks\u001b[0m\u001b[0;34m\u001b[0m\u001b[0;34m\u001b[0m\u001b[0;34m\u001b[0m\u001b[0m\n\u001b[0;32m----> 2\u001b[0;31m \u001b[0mtracks\u001b[0m \u001b[0;34m=\u001b[0m \u001b[0mTable\u001b[0m\u001b[0;34m(\u001b[0m\u001b[0;34m)\u001b[0m\u001b[0;34m.\u001b[0m\u001b[0mread_table\u001b[0m\u001b[0;34m(\u001b[0m\u001b[0;34m\"tracks.csv\"\u001b[0m\u001b[0;34m)\u001b[0m\u001b[0;34m\u001b[0m\u001b[0;34m\u001b[0m\u001b[0m\n\u001b[0m",
      "\u001b[0;31mNameError\u001b[0m: name 'Table' is not defined"
     ]
    }
   ],
   "source": [
    "#load tracks\n",
    "tracks = Table().read_table(\"tracks.csv\")\n",
    "tracks"
   ]
  },
  {
   "cell_type": "code",
   "execution_count": null,
   "metadata": {},
   "outputs": [],
   "source": []
  }
 ],
 "metadata": {
  "kernelspec": {
   "display_name": "Python 3",
   "language": "python",
   "name": "python3"
  },
  "language_info": {
   "codemirror_mode": {
    "name": "ipython",
    "version": 3
   },
   "file_extension": ".py",
   "mimetype": "text/x-python",
   "name": "python",
   "nbconvert_exporter": "python",
   "pygments_lexer": "ipython3",
   "version": "3.7.3"
  }
 },
 "nbformat": 4,
 "nbformat_minor": 4
}
