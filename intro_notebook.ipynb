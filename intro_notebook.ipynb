{
 "cells": [
  {
   "cell_type": "code",
   "execution_count": null,
   "metadata": {},
   "outputs": [],
   "source": [
    "from datascience import *\n",
    "import numpy as np\n",
    "%matplotlib inline"
   ]
  },
  {
   "cell_type": "markdown",
   "metadata": {},
   "source": [
    "# Free Music Archive : A Dataset For Music Analysis"
   ]
  },
  {
   "cell_type": "markdown",
   "metadata": {},
   "source": [
    "This dataset was introduced by Michaël Defferrard, Kirell Benzi, Pierre Vandergheynst, and Xavier Bresson at the International Society for Music Information Retrieval Conference in 2017. It has been\n",
    "cleaned for your convenience: all missing values have been removed, and low-quality observations and variables have been filtered\n",
    "out. A brief descriptive summary of the dataset, originally posted on the dataset's Kaggle landing page, is provided below. **You\n",
    "may not copy any public analyses of this dataset. Doing so will result in an automatic F.**"
   ]
  },
  {
   "cell_type": "markdown",
   "metadata": {},
   "source": [
    "## Summary\n"
   ]
  },
  {
   "cell_type": "markdown",
   "metadata": {},
   "source": [
    "## Data Description\n",
    "\n",
    "This dataset consists of three tables stored in the `data` folder:\n",
    "1. `tracks` provides information on individual tracks.\n",
    "2. `genres` contains information on all of the genres.\n",
    "3. `features` contains information on the audio features of each track.\n",
    "\n",
    "A description of each table's variables is provided below:\n",
    "\n",
    "`tracks`:\n",
    "* `track_id`: a unique ID for each track\n",
    "* `duration`: the length of the song in seconds"
   ]
  },
  {
   "cell_type": "markdown",
   "metadata": {},
   "source": [
    "## Inspiration"
   ]
  },
  {
   "cell_type": "markdown",
   "metadata": {},
   "source": [
    "## Exploration\n",
    "\n",
    "The tables are loaded in the code cells below. Take some time to explore them!"
   ]
  },
  {
   "cell_type": "code",
   "execution_count": null,
   "metadata": {},
   "outputs": [],
   "source": []
  }
 ],
 "metadata": {
  "kernelspec": {
   "display_name": "Python 3",
   "language": "python",
   "name": "python3"
  },
  "language_info": {
   "codemirror_mode": {
    "name": "ipython",
    "version": 3
   },
   "file_extension": ".py",
   "mimetype": "text/x-python",
   "name": "python",
   "nbconvert_exporter": "python",
   "pygments_lexer": "ipython3",
   "version": "3.8.3"
  }
 },
 "nbformat": 4,
 "nbformat_minor": 4
}
