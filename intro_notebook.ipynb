{
 "cells": [
  {
   "cell_type": "code",
   "execution_count": 1,
   "metadata": {},
   "outputs": [
    {
     "name": "stderr",
     "output_type": "stream",
     "text": [
      "/Users/winifredc123/Library/Python/3.8/lib/python/site-packages/datascience/tables.py:17: MatplotlibDeprecationWarning: The 'warn' parameter of use() is deprecated since Matplotlib 3.1 and will be removed in 3.3.  If any parameter follows 'warn', they should be pass as keyword, not positionally.\n",
      "  matplotlib.use('agg', warn=False)\n",
      "/Users/winifredc123/Library/Python/3.8/lib/python/site-packages/datascience/util.py:10: MatplotlibDeprecationWarning: The 'warn' parameter of use() is deprecated since Matplotlib 3.1 and will be removed in 3.3.  If any parameter follows 'warn', they should be pass as keyword, not positionally.\n",
      "  matplotlib.use('agg', warn=False)\n"
     ]
    }
   ],
   "source": [
    "from datascience import *\n",
    "import numpy as np\n",
    "%matplotlib inline"
   ]
  },
  {
   "cell_type": "markdown",
   "metadata": {},
   "source": [
    "# Free Music Archive : A Dataset For Music Analysis"
   ]
  },
  {
   "cell_type": "markdown",
   "metadata": {},
   "source": [
    "This dataset was introduced by Michaël Defferrard, Kirell Benzi, Pierre Vandergheynst, and Xavier Bresson at the International Society for Music Information Retrieval Conference in 2017. It has been\n",
    "cleaned for your convenience: all missing values have been removed, and low-quality observations and variables have been filtered\n",
    "out. A brief summary of the dataset, originally given at the conference, is provided below. **You\n",
    "may not copy any public analyses of this dataset. Doing so will result in an automatic F.**"
   ]
  },
  {
   "cell_type": "markdown",
   "metadata": {},
   "source": [
    "## Summary\n",
    "We introduce the Free Music Archive (FMA), an open and easily accessible dataset suitable for evaluating several tasks in MIR, a field concerned with browsing, searching, and organizing large music collections. The community's growing interest in feature and end-to-end learning is however restrained by the limited availability of large audio datasets. The FMA aims to overcome this hurdle by providing 917 GiB and 343 days of Creative Commons-licensed audio from 106,574 tracks from 16,341 artists and 14,854 albums, arranged in a hierarchical taxonomy of 161 genres. It provides full-length and high-quality audio, pre-computed features, together with track- and user-level metadata, tags, and free-form text such as biographies. We here describe the dataset and how it was created, propose a train/validation/test split and three subsets, discuss some suitable MIR tasks, and evaluate some baselines for genre recognition."
   ]
  },
  {
   "cell_type": "markdown",
   "metadata": {},
   "source": [
    "## Data Description\n",
    "\n",
    "This dataset consists of three tables stored in the `data` folder:\n",
    "1. `tracks` provides information on individual tracks.\n",
    "2. `genres` contains information on all of the genres.\n",
    "3. `features` contains information on the Spotify audio features of each track.\n",
    "\n",
    "A description of each table's variables is provided below:\n",
    "\n",
    "`tracks`:\n",
    "* `track_id`: a unique ID for each track\n",
    "* `title`: title of each track\n",
    "* `duration`: the length of the song in seconds\n",
    "* `genres`: the genre(s) that the track fall(s) into\n",
    "\n",
    "`genres`:\n",
    "* `genre_id`: a unique ID for each genre\n",
    "* `title`: the name of the genre\n",
    "* `# tracks`: the number of tracks that fall into this genre\n",
    "* `parent`: the genre that this subgenre falls under (will be 0 if not a subgenre)\n",
    "\n",
    "`features` (descriptions from the [Spotify API page](https://developer.spotify.com/documentation/web-api/reference/tracks/get-audio-features/)):\n",
    "* `track_id`: a unique ID for each track\n",
    "* `acousticness`: A confidence measure from 0.0 to 1.0 of whether the track is acoustic. 1.0 represents high confidence the track is acoustic.\n",
    "* `danceability`: Danceability describes how suitable a track is for dancing based on a combination of musical elements including tempo, rhythm stability, beat strength, and overall regularity. A value of 0.0 is least danceable and 1.0 is most danceable.\n",
    "* `energy`: Energy is a measure from 0.0 to 1.0 and represents a perceptual measure of intensity and activity. Typically, energetic tracks feel fast, loud, and noisy. For example, death metal has high energy, while a Bach prelude scores low on the scale.\n",
    "* `instrumentalness`: Predicts whether a track contains no vocals. “Ooh” and “aah” sounds are treated as instrumental in this context. Rap or spoken word tracks are clearly “vocal”. The closer the instrumentalness value is to 1.0, the greater likelihood the track contains no vocal content. \n",
    "* `liveness\t`: Detects the presence of an audience in the recording. Higher liveness values represent an increased probability that the track was performed live.\n",
    "* `speechiness`: Speechiness detects the presence of spoken words in a track. The more exclusively speech-like the recording (e.g. talk show, audio book, poetry), the closer to 1.0 the attribute value. \n",
    "* `tempo`: The overall estimated tempo of a track in beats per minute (BPM). In musical terminology, tempo is the speed or pace of a given piece and derives directly from the average beat duration. \n",
    "* `valence`: \tA measure from 0.0 to 1.0 describing the musical positiveness conveyed by a track. Tracks with high valence sound more positive (e.g. happy, cheerful, euphoric), while tracks with low valence sound more negative (e.g. sad, depressed, angry)."
   ]
  },
  {
   "cell_type": "markdown",
   "metadata": {},
   "source": [
    "## Inspiration\n",
    "\n",
    "A variety of exploratory analyses, hypothesis tests, and predictions problems can tackled with this data. Here are a few ideas to get\n",
    "you started:\n",
    "\n",
    "*we'll come back and fix these*\n",
    "\n",
    "1. Which genre has the longest songs?\n",
    "3. Is there a relationship between danceability and energy? What about danceability and valence?\n",
    "4. Can you classify which genre (of [pick 2 once we see data]) based on its features?\n",
    "5. Do (pick 2 genres) have the same average energy?\n",
    "\n",
    "Don't forget to review the Final Project Guidelines *(will link when live)* for a complete list of requirements."
   ]
  },
  {
   "cell_type": "markdown",
   "metadata": {},
   "source": [
    "## Exploration\n",
    "\n",
    "The tables are loaded in the code cells below. Take some time to explore them!"
   ]
  },
  {
   "cell_type": "code",
   "execution_count": 3,
   "metadata": {},
   "outputs": [],
   "source": [
    "#load tracks"
   ]
  },
  {
   "cell_type": "code",
   "execution_count": 14,
   "metadata": {},
   "outputs": [
    {
     "data": {
      "text/html": [
       "<table border=\"1\" class=\"dataframe\">\n",
       "    <thead>\n",
       "        <tr>\n",
       "            <th>genre_id</th> <th>#tracks</th> <th>parent</th> <th>title</th>\n",
       "        </tr>\n",
       "    </thead>\n",
       "    <tbody>\n",
       "        <tr>\n",
       "            <td>1       </td> <td>8693   </td> <td>38    </td> <td>Avant-Garde        </td>\n",
       "        </tr>\n",
       "        <tr>\n",
       "            <td>2       </td> <td>5271   </td> <td>0     </td> <td>International      </td>\n",
       "        </tr>\n",
       "        <tr>\n",
       "            <td>3       </td> <td>1752   </td> <td>0     </td> <td>Blues              </td>\n",
       "        </tr>\n",
       "        <tr>\n",
       "            <td>4       </td> <td>4126   </td> <td>0     </td> <td>Jazz               </td>\n",
       "        </tr>\n",
       "        <tr>\n",
       "            <td>5       </td> <td>4106   </td> <td>0     </td> <td>Classical          </td>\n",
       "        </tr>\n",
       "        <tr>\n",
       "            <td>6       </td> <td>914    </td> <td>38    </td> <td>Novelty            </td>\n",
       "        </tr>\n",
       "        <tr>\n",
       "            <td>7       </td> <td>217    </td> <td>20    </td> <td>Comedy             </td>\n",
       "        </tr>\n",
       "        <tr>\n",
       "            <td>8       </td> <td>868    </td> <td>0     </td> <td>Old-Time / Historic</td>\n",
       "        </tr>\n",
       "        <tr>\n",
       "            <td>9       </td> <td>1987   </td> <td>0     </td> <td>Country            </td>\n",
       "        </tr>\n",
       "        <tr>\n",
       "            <td>10      </td> <td>13845  </td> <td>0     </td> <td>Pop                </td>\n",
       "        </tr>\n",
       "    </tbody>\n",
       "</table>\n",
       "<p>... (153 rows omitted)</p>"
      ],
      "text/plain": [
       "genre_id | #tracks | parent | title\n",
       "1        | 8693    | 38     | Avant-Garde\n",
       "2        | 5271    | 0      | International\n",
       "3        | 1752    | 0      | Blues\n",
       "4        | 4126    | 0      | Jazz\n",
       "5        | 4106    | 0      | Classical\n",
       "6        | 914     | 38     | Novelty\n",
       "7        | 217     | 20     | Comedy\n",
       "8        | 868     | 0      | Old-Time / Historic\n",
       "9        | 1987    | 0      | Country\n",
       "10       | 13845   | 0      | Pop\n",
       "... (153 rows omitted)"
      ]
     },
     "execution_count": 14,
     "metadata": {},
     "output_type": "execute_result"
    }
   ],
   "source": [
    "#load genres\n",
    "genres = Table().read_table(\"genres.csv\").drop('top_level')\n",
    "genres"
   ]
  },
  {
   "cell_type": "code",
   "execution_count": 23,
   "metadata": {},
   "outputs": [
    {
     "data": {
      "text/html": [
       "<table border=\"1\" class=\"dataframe\">\n",
       "    <thead>\n",
       "        <tr>\n",
       "            <th>track_id</th> <th>acousticness</th> <th>danceability</th> <th>energy</th> <th>instrumentalness</th> <th>liveness</th> <th>speechiness</th> <th>tempo</th> <th>valence</th>\n",
       "        </tr>\n",
       "    </thead>\n",
       "    <tbody>\n",
       "        <tr>\n",
       "            <td>2       </td> <td>0.4166752327</td> <td>0.6758939853</td> <td>0.6344762684</td> <td>0.0106280683    </td> <td>0.1776465712</td> <td>0.1593100648</td> <td>165.9220000000</td> <td>0.5766609880</td>\n",
       "        </tr>\n",
       "        <tr>\n",
       "            <td>3       </td> <td>0.3744077685</td> <td>0.5286430621</td> <td>0.8174611317</td> <td>0.0018511032    </td> <td>0.1058799438</td> <td>0.4618181276</td> <td>126.9570000000</td> <td>0.2692402421</td>\n",
       "        </tr>\n",
       "        <tr>\n",
       "            <td>5       </td> <td>0.0435668989</td> <td>0.7455658702</td> <td>0.7014699916</td> <td>0.0006967990    </td> <td>0.3731433124</td> <td>0.1245953419</td> <td>100.2600000000</td> <td>0.6216612236</td>\n",
       "        </tr>\n",
       "        <tr>\n",
       "            <td>10      </td> <td>0.9516699648</td> <td>0.6581786543</td> <td>0.9245251615</td> <td>0.9654270154    </td> <td>0.1154738842</td> <td>0.0329852191</td> <td>111.5620000000</td> <td>0.9635898919</td>\n",
       "        </tr>\n",
       "        <tr>\n",
       "            <td>134     </td> <td>0.4522173071</td> <td>0.5132380502</td> <td>0.5604099311</td> <td>0.0194426943    </td> <td>0.0965666940</td> <td>0.5255193792</td> <td>114.2900000000</td> <td>0.8940722715</td>\n",
       "        </tr>\n",
       "        <tr>\n",
       "            <td>139     </td> <td>0.1065495253</td> <td>0.2609111726</td> <td>0.6070668636</td> <td>0.8350869898    </td> <td>0.2236762711</td> <td>0.0305692764</td> <td>196.9610000000</td> <td>0.1602670903</td>\n",
       "        </tr>\n",
       "        <tr>\n",
       "            <td>140     </td> <td>0.3763124975</td> <td>0.7340790229</td> <td>0.2656847734</td> <td>0.6695811237    </td> <td>0.0859951222</td> <td>0.0390682262</td> <td>107.9520000000</td> <td>0.6099912728</td>\n",
       "        </tr>\n",
       "        <tr>\n",
       "            <td>141     </td> <td>0.9636568796</td> <td>0.4359329980</td> <td>0.0756321472</td> <td>0.3454934909    </td> <td>0.1056858694</td> <td>0.0266578493</td> <td>33.4770000000 </td> <td>0.1639499337</td>\n",
       "        </tr>\n",
       "        <tr>\n",
       "            <td>142     </td> <td>0.6628811246</td> <td>0.3790654766</td> <td>0.8238557796</td> <td>0.9102661844    </td> <td>0.0887052551</td> <td>0.0790903546</td> <td>147.7810000000</td> <td>0.0928676322</td>\n",
       "        </tr>\n",
       "        <tr>\n",
       "            <td>144     </td> <td>0.9090114288</td> <td>0.4436425913</td> <td>0.6419971681</td> <td>0.9240916996    </td> <td>0.2676694513</td> <td>0.0896589132</td> <td>128.5370000000</td> <td>0.7882507821</td>\n",
       "        </tr>\n",
       "    </tbody>\n",
       "</table>\n",
       "<p>... (13119 rows omitted)</p>"
      ],
      "text/plain": [
       "track_id | acousticness | danceability | energy       | instrumentalness | liveness     | speechiness  | tempo          | valence\n",
       "2        | 0.4166752327 | 0.6758939853 | 0.6344762684 | 0.0106280683     | 0.1776465712 | 0.1593100648 | 165.9220000000 | 0.5766609880\n",
       "3        | 0.3744077685 | 0.5286430621 | 0.8174611317 | 0.0018511032     | 0.1058799438 | 0.4618181276 | 126.9570000000 | 0.2692402421\n",
       "5        | 0.0435668989 | 0.7455658702 | 0.7014699916 | 0.0006967990     | 0.3731433124 | 0.1245953419 | 100.2600000000 | 0.6216612236\n",
       "10       | 0.9516699648 | 0.6581786543 | 0.9245251615 | 0.9654270154     | 0.1154738842 | 0.0329852191 | 111.5620000000 | 0.9635898919\n",
       "134      | 0.4522173071 | 0.5132380502 | 0.5604099311 | 0.0194426943     | 0.0965666940 | 0.5255193792 | 114.2900000000 | 0.8940722715\n",
       "139      | 0.1065495253 | 0.2609111726 | 0.6070668636 | 0.8350869898     | 0.2236762711 | 0.0305692764 | 196.9610000000 | 0.1602670903\n",
       "140      | 0.3763124975 | 0.7340790229 | 0.2656847734 | 0.6695811237     | 0.0859951222 | 0.0390682262 | 107.9520000000 | 0.6099912728\n",
       "141      | 0.9636568796 | 0.4359329980 | 0.0756321472 | 0.3454934909     | 0.1056858694 | 0.0266578493 | 33.4770000000  | 0.1639499337\n",
       "142      | 0.6628811246 | 0.3790654766 | 0.8238557796 | 0.9102661844     | 0.0887052551 | 0.0790903546 | 147.7810000000 | 0.0928676322\n",
       "144      | 0.9090114288 | 0.4436425913 | 0.6419971681 | 0.9240916996     | 0.2676694513 | 0.0896589132 | 128.5370000000 | 0.7882507821\n",
       "... (13119 rows omitted)"
      ]
     },
     "execution_count": 23,
     "metadata": {},
     "output_type": "execute_result"
    }
   ],
   "source": [
    "#load features\n",
    "features = Table().read_table(\"features.csv\")\n",
    "features = features.select(np.arange(9)).remove([0,1,2]).relabel(['Unnamed: 0','echonest', 'echonest.1', 'echonest.2','echonest.3','echonest.4','echonest.5','echonest.6','echonest.7'], ['track_id','acousticness', 'danceability', 'energy','instrumentalness','liveness', 'speechiness', 'tempo', 'valence'])\n",
    "features"
   ]
  },
  {
   "cell_type": "code",
   "execution_count": 2,
   "metadata": {},
   "outputs": [
    {
     "data": {
      "text/html": [
       "<table border=\"1\" class=\"dataframe\">\n",
       "    <thead>\n",
       "        <tr>\n",
       "            <th>Unnamed: 0</th> <th>track_id</th> <th>track_title</th> <th>artist_name</th> <th>album_title</th> <th>track_duration</th> <th>track_genre</th> <th>track_bit_rate</th> <th>track_listens</th> <th>track_comments</th> <th>artist_location</th> <th>album_date_released</th> <th>album_type</th> <th>album_tracks</th>\n",
       "        </tr>\n",
       "    </thead>\n",
       "    <tbody>\n",
       "        <tr>\n",
       "            <td>2         </td> <td>2       </td> <td>Food                </td> <td>AWOL                           </td> <td>AWOL - A Way Of Life </td> <td>168           </td> <td>Hip-Hop     </td> <td>256000        </td> <td>1293         </td> <td>0             </td> <td>New Jersey     </td> <td>2009-01-05         </td> <td>Album           </td> <td>7           </td>\n",
       "        </tr>\n",
       "        <tr>\n",
       "            <td>3         </td> <td>3       </td> <td>Electric Ave        </td> <td>AWOL                           </td> <td>AWOL - A Way Of Life </td> <td>237           </td> <td>Hip-Hop     </td> <td>256000        </td> <td>514          </td> <td>0             </td> <td>New Jersey     </td> <td>2009-01-05         </td> <td>Album           </td> <td>7           </td>\n",
       "        </tr>\n",
       "        <tr>\n",
       "            <td>4         </td> <td>5       </td> <td>This World          </td> <td>AWOL                           </td> <td>AWOL - A Way Of Life </td> <td>206           </td> <td>Hip-Hop     </td> <td>256000        </td> <td>1151         </td> <td>0             </td> <td>New Jersey     </td> <td>2009-01-05         </td> <td>Album           </td> <td>7           </td>\n",
       "        </tr>\n",
       "        <tr>\n",
       "            <td>11        </td> <td>134     </td> <td>Street Music        </td> <td>AWOL                           </td> <td>AWOL - A Way Of Life </td> <td>207           </td> <td>Hip-Hop     </td> <td>256000        </td> <td>943          </td> <td>0             </td> <td>New Jersey     </td> <td>2009-01-05         </td> <td>Album           </td> <td>7           </td>\n",
       "        </tr>\n",
       "        <tr>\n",
       "            <td>14        </td> <td>137     </td> <td>Side A              </td> <td>Airway                         </td> <td>Live at LACE         </td> <td>1233          </td> <td>Experimental</td> <td>256000        </td> <td>1278         </td> <td>0             </td> <td>Los Angeles, CA</td> <td>2006-12-01         </td> <td>Live Performance</td> <td>2           </td>\n",
       "        </tr>\n",
       "        <tr>\n",
       "            <td>15        </td> <td>138     </td> <td>Side B              </td> <td>Airway                         </td> <td>Live at LACE         </td> <td>1231          </td> <td>Experimental</td> <td>256000        </td> <td>489          </td> <td>0             </td> <td>Los Angeles, CA</td> <td>2006-12-01         </td> <td>Live Performance</td> <td>2           </td>\n",
       "        </tr>\n",
       "        <tr>\n",
       "            <td>16        </td> <td>139     </td> <td>CandyAss            </td> <td>Alec K. Redfearn & the Eyesores</td> <td>Every Man For Himself</td> <td>296           </td> <td>Folk        </td> <td>128000        </td> <td>582          </td> <td>0             </td> <td>Providence, RI </td> <td>2009-01-16         </td> <td>Album           </td> <td>2           </td>\n",
       "        </tr>\n",
       "        <tr>\n",
       "            <td>17        </td> <td>140     </td> <td>Queen Of The Wires  </td> <td>Alec K. Redfearn & the Eyesores</td> <td>The Blind Spot       </td> <td>253           </td> <td>Folk        </td> <td>128000        </td> <td>1299         </td> <td>0             </td> <td>Providence, RI </td> <td>2007-05-22         </td> <td>Album           </td> <td>1           </td>\n",
       "        </tr>\n",
       "        <tr>\n",
       "            <td>18        </td> <td>141     </td> <td>Ohio                </td> <td>Alec K. Redfearn & the Eyesores</td> <td>Every Man For Himself</td> <td>182           </td> <td>Folk        </td> <td>128000        </td> <td>725          </td> <td>0             </td> <td>Providence, RI </td> <td>2009-01-16         </td> <td>Album           </td> <td>2           </td>\n",
       "        </tr>\n",
       "        <tr>\n",
       "            <td>19        </td> <td>142     </td> <td>Punjabi Watery Grave</td> <td>Alec K. Redfearn & the Eyesores</td> <td>The Quiet Room       </td> <td>470           </td> <td>Folk        </td> <td>128000        </td> <td>848          </td> <td>0             </td> <td>Providence, RI </td> <td>2005-01-25         </td> <td>Album           </td> <td>1           </td>\n",
       "        </tr>\n",
       "    </tbody>\n",
       "</table>\n",
       "<p>... (22754 rows omitted)</p>"
      ],
      "text/plain": [
       "Unnamed: 0 | track_id | track_title          | artist_name                     | album_title           | track_duration | track_genre  | track_bit_rate | track_listens | track_comments | artist_location | album_date_released | album_type       | album_tracks\n",
       "2          | 2        | Food                 | AWOL                            | AWOL - A Way Of Life  | 168            | Hip-Hop      | 256000         | 1293          | 0              | New Jersey      | 2009-01-05          | Album            | 7\n",
       "3          | 3        | Electric Ave         | AWOL                            | AWOL - A Way Of Life  | 237            | Hip-Hop      | 256000         | 514           | 0              | New Jersey      | 2009-01-05          | Album            | 7\n",
       "4          | 5        | This World           | AWOL                            | AWOL - A Way Of Life  | 206            | Hip-Hop      | 256000         | 1151          | 0              | New Jersey      | 2009-01-05          | Album            | 7\n",
       "11         | 134      | Street Music         | AWOL                            | AWOL - A Way Of Life  | 207            | Hip-Hop      | 256000         | 943           | 0              | New Jersey      | 2009-01-05          | Album            | 7\n",
       "14         | 137      | Side A               | Airway                          | Live at LACE          | 1233           | Experimental | 256000         | 1278          | 0              | Los Angeles, CA | 2006-12-01          | Live Performance | 2\n",
       "15         | 138      | Side B               | Airway                          | Live at LACE          | 1231           | Experimental | 256000         | 489           | 0              | Los Angeles, CA | 2006-12-01          | Live Performance | 2\n",
       "16         | 139      | CandyAss             | Alec K. Redfearn & the Eyesores | Every Man For Himself | 296            | Folk         | 128000         | 582           | 0              | Providence, RI  | 2009-01-16          | Album            | 2\n",
       "17         | 140      | Queen Of The Wires   | Alec K. Redfearn & the Eyesores | The Blind Spot        | 253            | Folk         | 128000         | 1299          | 0              | Providence, RI  | 2007-05-22          | Album            | 1\n",
       "18         | 141      | Ohio                 | Alec K. Redfearn & the Eyesores | Every Man For Himself | 182            | Folk         | 128000         | 725           | 0              | Providence, RI  | 2009-01-16          | Album            | 2\n",
       "19         | 142      | Punjabi Watery Grave | Alec K. Redfearn & the Eyesores | The Quiet Room        | 470            | Folk         | 128000         | 848           | 0              | Providence, RI  | 2005-01-25          | Album            | 1\n",
       "... (22754 rows omitted)"
      ]
     },
     "execution_count": 2,
     "metadata": {},
     "output_type": "execute_result"
    }
   ],
   "source": [
    "#load tracks\n",
    "tracks = Table().read_table(\"tracks.csv\")\n",
    "tracks"
   ]
  },
  {
   "cell_type": "code",
   "execution_count": null,
   "metadata": {},
   "outputs": [],
   "source": []
  }
 ],
 "metadata": {
  "kernelspec": {
   "display_name": "Python 3",
   "language": "python",
   "name": "python3"
  },
  "language_info": {
   "codemirror_mode": {
    "name": "ipython",
    "version": 3
   },
   "file_extension": ".py",
   "mimetype": "text/x-python",
   "name": "python",
   "nbconvert_exporter": "python",
   "pygments_lexer": "ipython3",
   "version": "3.8.3"
  }
 },
 "nbformat": 4,
 "nbformat_minor": 4
}
